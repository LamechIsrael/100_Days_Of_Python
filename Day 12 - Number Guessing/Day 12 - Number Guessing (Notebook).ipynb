{
 "cells": [
  {
   "cell_type": "markdown",
   "id": "008dd6fc",
   "metadata": {},
   "source": [
    "# Day 12 - Number Guessing\n",
    "\n",
    "## Summary\n",
    "\n",
    "This application is a number guessing game.\n",
    "\n",
    "The user will guess a number and the application will tell whether the actual number is higher or lower.\n",
    "\n",
    "The main point is to prove that I can use global variables."
   ]
  },
  {
   "cell_type": "code",
   "execution_count": 1,
   "id": "3a05c34f",
   "metadata": {},
   "outputs": [],
   "source": [
    "import random"
   ]
  },
  {
   "cell_type": "code",
   "execution_count": 2,
   "id": "58e1f5b8",
   "metadata": {},
   "outputs": [],
   "source": [
    "number = 0"
   ]
  },
  {
   "cell_type": "code",
   "execution_count": 3,
   "id": "2840f83f",
   "metadata": {},
   "outputs": [],
   "source": [
    "mode = ''"
   ]
  },
  {
   "cell_type": "code",
   "execution_count": 4,
   "id": "a39dffab",
   "metadata": {},
   "outputs": [],
   "source": [
    "guesses = 0"
   ]
  },
  {
   "cell_type": "code",
   "execution_count": 5,
   "id": "11693e7e",
   "metadata": {},
   "outputs": [],
   "source": [
    "correct_guess = False"
   ]
  },
  {
   "cell_type": "code",
   "execution_count": 6,
   "id": "3a023bae",
   "metadata": {},
   "outputs": [],
   "source": [
    "def guess_number():\n",
    "    global number\n",
    "    global guesses\n",
    "    global correct_guess\n",
    "    \n",
    "    guessed_number = int(input(\"What number will you guess? \"))\n",
    "    \n",
    "    if number > guessed_number:\n",
    "        print(\"Higher\")\n",
    "        guesses-=1\n",
    "    elif number < guessed_number:\n",
    "        print(\"Lower\")\n",
    "        guesses-=1\n",
    "    else:\n",
    "        print(\"That is correct!\")\n",
    "        correct_guess = True"
   ]
  },
  {
   "cell_type": "code",
   "execution_count": 7,
   "id": "a0536edd",
   "metadata": {},
   "outputs": [],
   "source": [
    "def restart_game():\n",
    "    global correct_guess\n",
    "    global number\n",
    "    global mode\n",
    "    global guesses\n",
    "    \n",
    "    \n",
    "    correct_guess = False\n",
    "    random.randint(1,101)\n",
    "    mode = ''\n",
    "    \n",
    "    while mode != 'easy' and mode != 'medium' and mode != 'hard':\n",
    "        mode = input(\"This is a number guessing game. How difficult do you want this game? 'easy', 'medium', or 'hard'? \").lower()\n",
    "        \n",
    "    if mode == 'easy':\n",
    "        guesses = 10\n",
    "    elif mode == 'medium':\n",
    "        guesses = 5\n",
    "    else:\n",
    "        guesses = 2"
   ]
  },
  {
   "cell_type": "code",
   "execution_count": 8,
   "id": "8ad94aa5",
   "metadata": {},
   "outputs": [],
   "source": [
    "def play_game():\n",
    "    while guesses > 0 and correct_guess == False:\n",
    "        guess_number()\n",
    "    if guesses == 0:\n",
    "        print(\"You Lose!\")"
   ]
  },
  {
   "cell_type": "code",
   "execution_count": 9,
   "id": "94e90c58",
   "metadata": {},
   "outputs": [
    {
     "name": "stdout",
     "output_type": "stream",
     "text": [
      "This is a number guessing game. How difficult do you want this game? 'easy', 'medium', or 'hard'? easy\n",
      "What number will you guess? 50\n",
      "Lower\n",
      "What number will you guess? 40\n",
      "Lower\n",
      "What number will you guess? 30\n",
      "Lower\n",
      "What number will you guess? 20\n",
      "Lower\n",
      "What number will you guess? 10\n",
      "Lower\n",
      "What number will you guess? 5\n",
      "Lower\n",
      "What number will you guess? 2\n",
      "Lower\n",
      "What number will you guess? 1\n",
      "Lower\n",
      "What number will you guess? 0\n",
      "That is correct!\n",
      "Do you want to play again? 'y' or 'n'y\n",
      "This is a number guessing game. How difficult do you want this game? 'easy', 'medium', or 'hard'? hard\n",
      "What number will you guess? 35\n",
      "Lower\n",
      "What number will you guess? 50\n",
      "Lower\n",
      "You Lose!\n",
      "Do you want to play again? 'y' or 'n'n\n"
     ]
    }
   ],
   "source": [
    "playing = True\n",
    "while playing:\n",
    "    restart_game()\n",
    "    play = play_game()\n",
    "    play_again = input(\"Do you want to play again? 'y' or 'n'\")\n",
    "    if play_again == 'n':\n",
    "        playing = False"
   ]
  },
  {
   "cell_type": "code",
   "execution_count": null,
   "id": "42128c6c",
   "metadata": {},
   "outputs": [],
   "source": []
  }
 ],
 "metadata": {
  "kernelspec": {
   "display_name": "Python 3 (ipykernel)",
   "language": "python",
   "name": "python3"
  },
  "language_info": {
   "codemirror_mode": {
    "name": "ipython",
    "version": 3
   },
   "file_extension": ".py",
   "mimetype": "text/x-python",
   "name": "python",
   "nbconvert_exporter": "python",
   "pygments_lexer": "ipython3",
   "version": "3.9.13"
  }
 },
 "nbformat": 4,
 "nbformat_minor": 5
}
