{
 "cells": [
  {
   "cell_type": "markdown",
   "id": "9b24cb92",
   "metadata": {},
   "source": [
    "# Treasure Island\n",
    "\n",
    "This is day 3 of the 100 Days of Code.\n",
    "\n",
    "I am adding these markdown sections because, while someone can see that I'm coding, they may not know what skills I have gained. Basically, this answers, \"What am I looking at? Why do I care?\"\n",
    "\n",
    "Today, I demonstrate that I can make logical operations.\n",
    "\n",
    "The app will give you options to choose from. Select all the correct answers, and you win the game."
   ]
  },
  {
   "cell_type": "code",
   "execution_count": 1,
   "id": "07c79369",
   "metadata": {},
   "outputs": [
    {
     "name": "stdout",
     "output_type": "stream",
     "text": [
      "Welcome to Treasure Island \n",
      "Your mission is to find the treasure.\n"
     ]
    }
   ],
   "source": [
    "print(\"Welcome to Treasure Island \\nYour mission is to find the treasure.\")\n",
    "status = 'alive'"
   ]
  },
  {
   "cell_type": "code",
   "execution_count": 2,
   "id": "a49e6edc",
   "metadata": {},
   "outputs": [
    {
     "name": "stdout",
     "output_type": "stream",
     "text": [
      "Now, will you go left or right? Left\n"
     ]
    }
   ],
   "source": [
    "direction = input(\"Now, will you go left or right? \")"
   ]
  },
  {
   "cell_type": "code",
   "execution_count": 3,
   "id": "23a4207f",
   "metadata": {},
   "outputs": [],
   "source": [
    "direction_letter = direction[0].lower()"
   ]
  },
  {
   "cell_type": "code",
   "execution_count": 4,
   "id": "b9411fff",
   "metadata": {},
   "outputs": [
    {
     "name": "stdout",
     "output_type": "stream",
     "text": [
      "You come to a river.\n",
      "Do you swim accross or wait?\n",
      "Type 'swim' or 'wait' wait\n"
     ]
    }
   ],
   "source": [
    "if(direction_letter == 'r'):\n",
    "    print(\"Game Over\")\n",
    "    status = 'dead'\n",
    "else:\n",
    "    print(\"You come to a river.\")\n",
    "    print(\"Do you swim accross or wait?\")\n",
    "    choice = input(\"Type 'swim' or 'wait' \")\n",
    "    choice_letter = choice[0].lower()\n",
    "    if(choice_letter == 's'):\n",
    "        status = 'dead'\n",
    "        print(\"Game Over\")"
   ]
  },
  {
   "cell_type": "code",
   "execution_count": 5,
   "id": "dccb088a",
   "metadata": {},
   "outputs": [
    {
     "name": "stdout",
     "output_type": "stream",
     "text": [
      "Finally, you are at the temple.\n",
      "You have a choice of 3 doors.\n",
      "One leads to the treasure, the others to your doom.\n",
      "Choose: 'red', 'yellow', or 'blue' Blue\n"
     ]
    },
    {
     "ename": "NameError",
     "evalue": "name 'yellow' is not defined",
     "output_type": "error",
     "traceback": [
      "\u001b[0;31m---------------------------------------------------------------------------\u001b[0m",
      "\u001b[0;31mNameError\u001b[0m                                 Traceback (most recent call last)",
      "Cell \u001b[0;32mIn[5], line 7\u001b[0m\n\u001b[1;32m      5\u001b[0m door \u001b[38;5;241m=\u001b[39m \u001b[38;5;28minput\u001b[39m(\u001b[38;5;124m\"\u001b[39m\u001b[38;5;124mChoose: \u001b[39m\u001b[38;5;124m'\u001b[39m\u001b[38;5;124mred\u001b[39m\u001b[38;5;124m'\u001b[39m\u001b[38;5;124m, \u001b[39m\u001b[38;5;124m'\u001b[39m\u001b[38;5;124myellow\u001b[39m\u001b[38;5;124m'\u001b[39m\u001b[38;5;124m, or \u001b[39m\u001b[38;5;124m'\u001b[39m\u001b[38;5;124mblue\u001b[39m\u001b[38;5;124m'\u001b[39m\u001b[38;5;124m \u001b[39m\u001b[38;5;124m\"\u001b[39m)\n\u001b[1;32m      6\u001b[0m door_letter \u001b[38;5;241m=\u001b[39m door[\u001b[38;5;241m0\u001b[39m]\u001b[38;5;241m.\u001b[39mlower()\n\u001b[0;32m----> 7\u001b[0m \u001b[38;5;28;01mif\u001b[39;00m(door_letter \u001b[38;5;241m!=\u001b[39m \u001b[43myellow\u001b[49m):\n\u001b[1;32m      8\u001b[0m     status \u001b[38;5;241m=\u001b[39m \u001b[38;5;124m'\u001b[39m\u001b[38;5;124mdead\u001b[39m\u001b[38;5;124m'\u001b[39m\n\u001b[1;32m      9\u001b[0m     \u001b[38;5;28mprint\u001b[39m(\u001b[38;5;124m\"\u001b[39m\u001b[38;5;124mGame Over\u001b[39m\u001b[38;5;124m\"\u001b[39m)\n",
      "\u001b[0;31mNameError\u001b[0m: name 'yellow' is not defined"
     ]
    }
   ],
   "source": [
    "if(status != 'dead'):\n",
    "    print('Finally, you are at the temple.')\n",
    "    print(\"You have a choice of 3 doors.\")\n",
    "    print(\"One leads to the treasure, the others to your doom.\")\n",
    "    door = input(\"Choose: 'red', 'yellow', or 'blue' \")\n",
    "    door_letter = door[0].lower()\n",
    "    if(door_letter != 'y'):\n",
    "        status = 'dead'\n",
    "        print(\"Game Over\")\n",
    "    else:\n",
    "        print(\"You win!\")"
   ]
  },
  {
   "cell_type": "markdown",
   "id": "814d5b39",
   "metadata": {},
   "source": [
    "# Post Script\n",
    "After writing a few lines, I realized I could create a variable that checks the status of my character.\n",
    "Rather than writing a bunch of nested if-statements, I could check if he was \"dead.\"\n",
    "\n",
    "Although, now that I'm writing this post-script, I realize I could have made a boolean variable called \"alive.\"\n",
    "Then, as long as \"alive\" was true, execute whatever code was next.\n",
    "\n",
    "However, I will leave this as it is.\n",
    "Reason 1: The way the code is written now shows the various ways I can use an if-statement.\n",
    "Reason 2: This post-script shows that I do know I could have made this simpler.\n",
    "\n",
    "My only regret is that I didn't use \"elif.\""
   ]
  },
  {
   "cell_type": "code",
   "execution_count": null,
   "id": "01e3da1d",
   "metadata": {},
   "outputs": [],
   "source": []
  }
 ],
 "metadata": {
  "kernelspec": {
   "display_name": "Python 3 (ipykernel)",
   "language": "python",
   "name": "python3"
  },
  "language_info": {
   "codemirror_mode": {
    "name": "ipython",
    "version": 3
   },
   "file_extension": ".py",
   "mimetype": "text/x-python",
   "name": "python",
   "nbconvert_exporter": "python",
   "pygments_lexer": "ipython3",
   "version": "3.9.13"
  }
 },
 "nbformat": 4,
 "nbformat_minor": 5
}
