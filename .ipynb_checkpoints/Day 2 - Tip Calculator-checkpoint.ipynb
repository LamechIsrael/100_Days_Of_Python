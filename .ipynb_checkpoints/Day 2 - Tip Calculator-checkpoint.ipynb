{
 "cells": [
  {
   "cell_type": "code",
   "execution_count": 7,
   "id": "91fb0ca8",
   "metadata": {},
   "outputs": [
    {
     "name": "stdout",
     "output_type": "stream",
     "text": [
      "Welcome to the tip calculator!\n"
     ]
    }
   ],
   "source": [
    "print(\"Welcome to the tip calculator!\")"
   ]
  },
  {
   "cell_type": "code",
   "execution_count": 8,
   "id": "c5b98059",
   "metadata": {},
   "outputs": [
    {
     "name": "stdout",
     "output_type": "stream",
     "text": [
      "What was the total bill? $124.56\n"
     ]
    }
   ],
   "source": [
    "total_bill = float(input(\"What was the total bill? $\"))"
   ]
  },
  {
   "cell_type": "code",
   "execution_count": 9,
   "id": "33db5965",
   "metadata": {},
   "outputs": [
    {
     "name": "stdout",
     "output_type": "stream",
     "text": [
      "How much tip would you like to give? 10, 12, or 15?12\n"
     ]
    }
   ],
   "source": [
    "tip = int(input(\"How much tip would you like to give? 10, 12, or 15? \"))\n",
    "tip_adjust = 1 + tip/100"
   ]
  },
  {
   "cell_type": "code",
   "execution_count": 10,
   "id": "f83a0b87",
   "metadata": {},
   "outputs": [
    {
     "name": "stdout",
     "output_type": "stream",
     "text": [
      "How many people to split the bill? 7\n"
     ]
    }
   ],
   "source": [
    "number_of_people = int(input(\"How many people to split the bill? \"))"
   ]
  },
  {
   "cell_type": "code",
   "execution_count": 11,
   "id": "118fdf39",
   "metadata": {},
   "outputs": [],
   "source": [
    "tip_per_person = (total_bill * tip_adjust) / number_of_people\n",
    "tip_calculator = round(tip_per_person, 2)"
   ]
  },
  {
   "cell_type": "code",
   "execution_count": 12,
   "id": "1c2802f8",
   "metadata": {},
   "outputs": [
    {
     "name": "stdout",
     "output_type": "stream",
     "text": [
      "Each person should pay: $19.93\n"
     ]
    }
   ],
   "source": [
    "print(f\"Each person should pay: ${tip_calculation}\")"
   ]
  }
 ],
 "metadata": {
  "kernelspec": {
   "display_name": "Python 3 (ipykernel)",
   "language": "python",
   "name": "python3"
  },
  "language_info": {
   "codemirror_mode": {
    "name": "ipython",
    "version": 3
   },
   "file_extension": ".py",
   "mimetype": "text/x-python",
   "name": "python",
   "nbconvert_exporter": "python",
   "pygments_lexer": "ipython3",
   "version": "3.9.13"
  }
 },
 "nbformat": 4,
 "nbformat_minor": 5
}
