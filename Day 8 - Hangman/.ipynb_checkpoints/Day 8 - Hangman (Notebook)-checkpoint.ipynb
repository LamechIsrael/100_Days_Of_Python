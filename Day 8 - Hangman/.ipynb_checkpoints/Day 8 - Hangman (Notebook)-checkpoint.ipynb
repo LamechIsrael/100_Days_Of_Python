{
 "cells": [
  {
   "cell_type": "markdown",
   "id": "8b466c68",
   "metadata": {},
   "source": [
    "# Day 8 - Hangman\n",
    "\n",
    "## Summary\n",
    "\n",
    "I must create a Hangman game.\n",
    "\n",
    "For those who don't know what that is, I must create a game that requires a player to guess all the letters in a word without using all of the player's tries.\n",
    "\n",
    "For this day, I am mostly proving that I understand while-loops and functions"
   ]
  },
  {
   "cell_type": "code",
   "execution_count": 1,
   "id": "f51b193a",
   "metadata": {},
   "outputs": [],
   "source": [
    "import random"
   ]
  },
  {
   "cell_type": "code",
   "execution_count": 2,
   "id": "e0a9a3d9",
   "metadata": {},
   "outputs": [],
   "source": [
    "def create_blank_word(word):\n",
    "    blank_word = ''\n",
    "    for letter in range(0, len(word)):\n",
    "        blank_word += '-'\n",
    "    return blank_word"
   ]
  },
  {
   "cell_type": "code",
   "execution_count": 3,
   "id": "af75a406",
   "metadata": {},
   "outputs": [],
   "source": [
    "def reveal_word(word, blank_word, guess):\n",
    "    new_blank_word = ''\n",
    "    for letter in range(0, len(word)):\n",
    "        if word[letter] == guess:\n",
    "            new_blank_word += guess\n",
    "        elif blank_word[letter] != '-':\n",
    "            new_blank_word += blank_word[letter]\n",
    "        else:\n",
    "            new_blank_word += '-'\n",
    "    return new_blank_word"
   ]
  },
  {
   "cell_type": "code",
   "execution_count": 4,
   "id": "51c7083f",
   "metadata": {},
   "outputs": [],
   "source": [
    "# Create a list of possible words\n",
    "word_list = ['trial', 'strawberry', 'penance']"
   ]
  },
  {
   "cell_type": "code",
   "execution_count": 5,
   "id": "656143a4",
   "metadata": {},
   "outputs": [],
   "source": [
    "# Select a word for the player\n",
    "word = random.choice(word_list)"
   ]
  },
  {
   "cell_type": "code",
   "execution_count": 6,
   "id": "4b76845e",
   "metadata": {},
   "outputs": [],
   "source": [
    "# Initiate the highest amount of tries\n",
    "tries_left = 5"
   ]
  },
  {
   "cell_type": "code",
   "execution_count": 7,
   "id": "bde33cca",
   "metadata": {},
   "outputs": [],
   "source": [
    "# Get a blank word to display to the player\n",
    "blank_word = create_blank_word(word)"
   ]
  },
  {
   "cell_type": "code",
   "execution_count": 8,
   "id": "4ff280c8",
   "metadata": {},
   "outputs": [
    {
     "name": "stdout",
     "output_type": "stream",
     "text": [
      "Welcome to Hangman! See if you can guess the hidden word!\n"
     ]
    }
   ],
   "source": [
    "print(\"Welcome to Hangman! See if you can guess the hidden word!\")"
   ]
  },
  {
   "cell_type": "code",
   "execution_count": 9,
   "id": "5b3c0434",
   "metadata": {},
   "outputs": [
    {
     "name": "stdout",
     "output_type": "stream",
     "text": [
      "----------\n",
      "You've got 5 tries left.\n",
      "Which letter do you want to guess? r\n",
      "--r----rr-\n",
      "You've got 5 tries left.\n",
      "Which letter do you want to guess? l\n",
      "--r----rr-\n",
      "You've got 4 tries left.\n",
      "Which letter do you want to guess? t\n",
      "-tr----rr-\n",
      "You've got 4 tries left.\n",
      "Which letter do you want to guess? b\n",
      "-tr--b-rr-\n",
      "You've got 4 tries left.\n",
      "Which letter do you want to guess? a\n",
      "-tra-b-rr-\n",
      "You've got 4 tries left.\n",
      "Which letter do you want to guess? w\n",
      "-trawb-rr-\n",
      "You've got 4 tries left.\n",
      "Which letter do you want to guess? y\n",
      "-trawb-rry\n",
      "You've got 4 tries left.\n",
      "Which letter do you want to guess? e\n",
      "-trawberry\n",
      "You've got 4 tries left.\n",
      "Which letter do you want to guess? s\n"
     ]
    }
   ],
   "source": [
    "while blank_word != word and tries_left != 0:\n",
    "    print(blank_word)\n",
    "    print(f\"You've got {tries_left} tries left.\")\n",
    "    guess = input(\"Which letter do you want to guess? \").lower()\n",
    "    if guess in word:\n",
    "        blank_word = reveal_word(word, blank_word, guess)\n",
    "    else:\n",
    "        tries_left -= 1"
   ]
  },
  {
   "cell_type": "code",
   "execution_count": 10,
   "id": "0ac506b1",
   "metadata": {},
   "outputs": [
    {
     "name": "stdout",
     "output_type": "stream",
     "text": [
      "You win!\n"
     ]
    }
   ],
   "source": [
    "if blank_word == word:\n",
    "    print(\"You win!\")\n",
    "else:\n",
    "    print(\"You lost!\")"
   ]
  }
 ],
 "metadata": {
  "kernelspec": {
   "display_name": "Python 3 (ipykernel)",
   "language": "python",
   "name": "python3"
  },
  "language_info": {
   "codemirror_mode": {
    "name": "ipython",
    "version": 3
   },
   "file_extension": ".py",
   "mimetype": "text/x-python",
   "name": "python",
   "nbconvert_exporter": "python",
   "pygments_lexer": "ipython3",
   "version": "3.9.13"
  }
 },
 "nbformat": 4,
 "nbformat_minor": 5
}
