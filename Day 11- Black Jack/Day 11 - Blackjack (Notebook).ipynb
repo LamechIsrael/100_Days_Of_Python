{
 "cells": [
  {
   "cell_type": "markdown",
   "id": "b80cf6c1",
   "metadata": {},
   "source": [
    "# Day 11 - Blackjack\n",
    "\n",
    "## Summary:\n",
    "\n",
    "This is a capstone project. So, it requires me to combine everything I have learned so far into one project.\n",
    "\n",
    "For those who do not know what \"Blackjack\" is, it is the game of \"21.\""
   ]
  },
  {
   "cell_type": "code",
   "execution_count": 1,
   "id": "b96aa165",
   "metadata": {},
   "outputs": [],
   "source": [
    "import random"
   ]
  },
  {
   "cell_type": "code",
   "execution_count": 2,
   "id": "4329083a",
   "metadata": {},
   "outputs": [],
   "source": [
    "# All the face cards count as '10'\n",
    "def draw_card():\n",
    "    cards = [11, 2, 3, 4, 5, 6, 7, 8, 9, 10, 10, 10, 10]\n",
    "    return random.choice(cards)"
   ]
  },
  {
   "cell_type": "code",
   "execution_count": 3,
   "id": "72d9e5c8",
   "metadata": {},
   "outputs": [],
   "source": [
    "def deal_cards(hands):\n",
    "    for n in range(2):\n",
    "        for person in hands:\n",
    "            hands[person].append(draw_card())\n",
    "    \n",
    "    print(f\"Your cards are {hands['player']}\")\n",
    "    print(f\"The dealer has {hands['dealer'][0]}\")\n",
    "    \n",
    "    return {\"player\": hands['player'], \"dealer\": hands['dealer']}"
   ]
  },
  {
   "cell_type": "code",
   "execution_count": 4,
   "id": "30a740a8",
   "metadata": {},
   "outputs": [],
   "source": [
    "def total_hand(cards):\n",
    "    total = 0\n",
    "    for card in cards:\n",
    "        total += card\n",
    "    return total"
   ]
  },
  {
   "cell_type": "code",
   "execution_count": 5,
   "id": "dfb66b4f",
   "metadata": {},
   "outputs": [],
   "source": [
    "def compare_hands(hands):\n",
    "    player_total = total_hand(hands['player'])\n",
    "    dealer_total = total_hand(hands['dealer'])\n",
    "    \n",
    "    print(f\"\\nYour cards are {hands['player']}. Total: {total_hand(hands['player'])}.\")\n",
    "    print(f\"The dealer's cards are {hands['dealer']}. Total: {total_hand(hands['dealer'])}.\")\n",
    "    \n",
    "    if player_total > dealer_total:\n",
    "        print(\"You win!\")\n",
    "    elif player_total < dealer_total:\n",
    "        print(\"You lose!\")\n",
    "    else:\n",
    "        print(\"It's a tie?\")"
   ]
  },
  {
   "cell_type": "code",
   "execution_count": 6,
   "id": "aa70d479",
   "metadata": {},
   "outputs": [],
   "source": [
    "def determine_winner(hands):\n",
    "    draw = input(\"Do you want to draw again? 'y' or 'n'\")\n",
    "    while draw != 'y' and draw != 'n':\n",
    "        draw = input(\"Do you want to draw again? 'y' or 'n'\")\n",
    "        \n",
    "    if draw == 'y':\n",
    "        hands['player'].append(draw_card())\n",
    "    \n",
    "    if total_hand(hands['player']) > 21:\n",
    "        print(f\"Your cards are {hands['player']}\")\n",
    "        print(\"You lose\")\n",
    "        return\n",
    "    \n",
    "    if total_hand(hands['dealer']) < 17:\n",
    "        hands['dealer'].append(draw_card())\n",
    "    \n",
    "    if total_hand(hands['dealer']) > 21:\n",
    "        print(f\"The dealer has drawn and has {hands['dealer']}\")\n",
    "        print(\"You win!\")\n",
    "        playing = False\n",
    "        return\n",
    "        \n",
    "    compare_hands(hands)\n",
    "    return"
   ]
  },
  {
   "cell_type": "code",
   "execution_count": 7,
   "id": "c972a43a",
   "metadata": {},
   "outputs": [],
   "source": [
    "hands = {'player':[], 'dealer':[]}"
   ]
  },
  {
   "cell_type": "code",
   "execution_count": 8,
   "id": "616d79b0",
   "metadata": {},
   "outputs": [],
   "source": [
    "playing = True"
   ]
  },
  {
   "cell_type": "code",
   "execution_count": 9,
   "id": "8114a299",
   "metadata": {},
   "outputs": [
    {
     "name": "stdout",
     "output_type": "stream",
     "text": [
      "Your cards are [10, 8]\n",
      "The dealer has 10\n",
      "Do you want to draw again? 'y' or 'n'n\n",
      "\n",
      "Your cards are [10, 8]. Total: 18.\n",
      "The dealer's cards are [10, 9]. Total: 19.\n",
      "You lose!\n"
     ]
    }
   ],
   "source": [
    "while playing:\n",
    "    hands = deal_cards(hands)\n",
    "    determine_winner(hands)\n",
    "    \n",
    "    playing = False"
   ]
  },
  {
   "cell_type": "code",
   "execution_count": null,
   "id": "f73770d6",
   "metadata": {},
   "outputs": [],
   "source": []
  }
 ],
 "metadata": {
  "kernelspec": {
   "display_name": "Python 3 (ipykernel)",
   "language": "python",
   "name": "python3"
  },
  "language_info": {
   "codemirror_mode": {
    "name": "ipython",
    "version": 3
   },
   "file_extension": ".py",
   "mimetype": "text/x-python",
   "name": "python",
   "nbconvert_exporter": "python",
   "pygments_lexer": "ipython3",
   "version": "3.9.13"
  }
 },
 "nbformat": 4,
 "nbformat_minor": 5
}
