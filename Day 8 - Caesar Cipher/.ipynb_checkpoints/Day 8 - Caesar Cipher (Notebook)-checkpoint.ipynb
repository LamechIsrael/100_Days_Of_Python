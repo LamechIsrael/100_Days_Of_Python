{
 "cells": [
  {
   "cell_type": "markdown",
   "id": "5c276c08",
   "metadata": {},
   "source": [
    "# Day 8 - Caesar Cipher\n",
    "\n",
    "## Summary\n",
    "\n",
    "I am to create a program that allows the user to create an encrypted message.\n",
    "\n",
    "The program should also allow the user to decrypt the message.\n",
    "\n",
    "## Skills Demonstrated\n",
    "- Input Functions"
   ]
  },
  {
   "cell_type": "code",
   "execution_count": 1,
   "id": "c5139da7",
   "metadata": {},
   "outputs": [],
   "source": [
    "# As I don't believe Python counts characters as ints like Java does, I need a list of letters\n",
    "letters = ['a', 'b', 'c', 'd', 'e', 'f', 'g', 'h', 'i', 'j', 'k', 'l', 'm', 'n', 'o', 'p', 'q', 'r', 's', 't', 'u', 'v', 'w', 'x', 'y', 'z']"
   ]
  },
  {
   "cell_type": "code",
   "execution_count": 2,
   "id": "c4c74018",
   "metadata": {},
   "outputs": [],
   "source": [
    "def encrypt_message(message, encryption_steps):\n",
    "    message_length = len(message)\n",
    "    encrypted_message = ''\n",
    "    \n",
    "    for letter in range(message_length):\n",
    "        if message[letter].lower() in letters:\n",
    "            letter_index = letters.index(message[letter].lower())\n",
    "\n",
    "            new_letter_index = letter_index + encryption_steps\n",
    "            # If the calculated index is greater than the length of the letters list, start from 'a'\n",
    "            if not new_letter_index < len(letters):\n",
    "                new_letter_index = new_letter_index - len(letters)\n",
    "            encrypted_message += letters[new_letter_index]\n",
    "        else:\n",
    "            encrypted_message += message[letter]\n",
    "            \n",
    "    return encrypted_message"
   ]
  },
  {
   "cell_type": "code",
   "execution_count": 3,
   "id": "86fe3f89",
   "metadata": {},
   "outputs": [],
   "source": [
    "def decrypt_message(message, decryption_steps):\n",
    "    message_length = len(message)\n",
    "    decrypted_message = ''\n",
    "    \n",
    "    for letter in range(message_length):\n",
    "        if message[letter].lower() in letters:\n",
    "            letter_index = letters.index(message[letter].lower())\n",
    "            new_letter_index = letter_index - decryption_steps\n",
    "            decrypted_message += letters[new_letter_index]\n",
    "        else:\n",
    "            decrypted_message += message[letter]\n",
    "            \n",
    "    return decrypted_message"
   ]
  },
  {
   "cell_type": "code",
   "execution_count": 4,
   "id": "968b62a9",
   "metadata": {},
   "outputs": [],
   "source": [
    "go_again = 'yes'"
   ]
  },
  {
   "cell_type": "code",
   "execution_count": 5,
   "id": "020ebd53",
   "metadata": {},
   "outputs": [
    {
     "name": "stdout",
     "output_type": "stream",
     "text": [
      "Type \"encrypt\" to encode a message and \"decrypt\" to decode one!\n",
      "encrypt\n",
      "Type your message.\n",
      "Hello World!\n",
      "Type the shift number.\n",
      "9\n",
      "\n",
      "The encryption is: qnuux fxaum!\n",
      "\n",
      "Do you want to go again? If so, type \"yes.\"\n",
      "yes\n",
      "Type \"encrypt\" to encode a message and \"decrypt\" to decode one!\n",
      "decrypt\n",
      "Type your message.\n",
      "qnuux fxaum!\n",
      "Type the shift number.\n",
      "9\n",
      "\n",
      "The message is: hello world!\n",
      "\n",
      "Do you want to go again? If so, type \"yes.\"\n",
      "no\n",
      "Program ended...\n"
     ]
    }
   ],
   "source": [
    "while go_again.lower() == 'yes':\n",
    "    choice = input('Type \"encrypt\" to encode a message and \"decrypt\" to decode one!\\n').lower()\n",
    "    message = input('Type your message.\\n')\n",
    "    steps = int(input('Type the shift number.\\n'))\n",
    "    \n",
    "    if choice == 'encrypt':\n",
    "        print(f\"\\nThe encryption is: {encrypt_message(message, steps)}\")\n",
    "    elif choice == 'decrypt':\n",
    "        print(f\"\\nThe message is: {decrypt_message(message, steps)}\")\n",
    "    else:\n",
    "        print(\"That wasn't one of the choices\")\n",
    "    \n",
    "    go_again = input('\\nDo you want to go again? If so, type \"yes.\"\\n').lower()\n",
    "\n",
    "print(\"Program ended...\")"
   ]
  },
  {
   "cell_type": "code",
   "execution_count": null,
   "id": "2d73db0c",
   "metadata": {},
   "outputs": [],
   "source": []
  }
 ],
 "metadata": {
  "kernelspec": {
   "display_name": "Python 3 (ipykernel)",
   "language": "python",
   "name": "python3"
  },
  "language_info": {
   "codemirror_mode": {
    "name": "ipython",
    "version": 3
   },
   "file_extension": ".py",
   "mimetype": "text/x-python",
   "name": "python",
   "nbconvert_exporter": "python",
   "pygments_lexer": "ipython3",
   "version": "3.9.13"
  }
 },
 "nbformat": 4,
 "nbformat_minor": 5
}
