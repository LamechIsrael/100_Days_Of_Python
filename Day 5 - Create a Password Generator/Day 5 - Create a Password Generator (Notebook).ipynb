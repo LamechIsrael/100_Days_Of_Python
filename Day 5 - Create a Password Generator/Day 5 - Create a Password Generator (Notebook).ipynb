{
 "cells": [
  {
   "cell_type": "markdown",
   "id": "20e24e4b",
   "metadata": {},
   "source": [
    "# Day 5: Create a Password Generator\n",
    "\n",
    "## Summary\n",
    "\n",
    "Today, I must create a small password generator.\n",
    "\n",
    "It take an input from the user to determine how many letters, numbers, and symbols will be included in the password.\n",
    "\n",
    "## Skills Used\n",
    "- Loops\n",
    "\n",
    "## Previous Skills Used\n",
    "- Conditional Statements\n",
    "- Random\n",
    "- Lists"
   ]
  },
  {
   "cell_type": "code",
   "execution_count": 1,
   "id": "cad0020d",
   "metadata": {},
   "outputs": [],
   "source": [
    "import random"
   ]
  },
  {
   "cell_type": "code",
   "execution_count": 2,
   "id": "e849ba20",
   "metadata": {},
   "outputs": [],
   "source": [
    "letters = ['a', 'b', 'c', 'd', 'e', 'f', 'g', 'h','i', 'j', 'k', 'l', 'm', 'n', 'o', 'p', 'q', 'r', 's', 't', 'u', 'v', 'w', 'x', 'y', 'z']"
   ]
  },
  {
   "cell_type": "code",
   "execution_count": 3,
   "id": "87a5ac43",
   "metadata": {},
   "outputs": [],
   "source": [
    "numbers = ['0', '1', '2', '3', '4', '5', '6', '7', '8', '9']"
   ]
  },
  {
   "cell_type": "code",
   "execution_count": 4,
   "id": "a3db5d45",
   "metadata": {},
   "outputs": [],
   "source": [
    "symbols = ['!', '#', '$', '%', '&', '(', ')', '*', '+']"
   ]
  },
  {
   "cell_type": "code",
   "execution_count": 5,
   "id": "00af1963",
   "metadata": {},
   "outputs": [
    {
     "name": "stdout",
     "output_type": "stream",
     "text": [
      "Welcome to the PyPassword Generator!\n"
     ]
    }
   ],
   "source": [
    "print(\"Welcome to the PyPassword Generator!\")"
   ]
  },
  {
   "cell_type": "code",
   "execution_count": 6,
   "id": "5e7d9c54",
   "metadata": {},
   "outputs": [
    {
     "name": "stdout",
     "output_type": "stream",
     "text": [
      "How many letters would you like in your password?\n",
      "3\n"
     ]
    }
   ],
   "source": [
    "nr_letters = int(input('How many letters would you like in your password?\\n'))"
   ]
  },
  {
   "cell_type": "code",
   "execution_count": 7,
   "id": "75f8fa49",
   "metadata": {},
   "outputs": [
    {
     "name": "stdout",
     "output_type": "stream",
     "text": [
      "How many symbols would you like?\n",
      "5\n"
     ]
    }
   ],
   "source": [
    "nr_symbols = int(input('How many symbols would you like?\\n'))"
   ]
  },
  {
   "cell_type": "code",
   "execution_count": 8,
   "id": "9d7a088d",
   "metadata": {},
   "outputs": [
    {
     "name": "stdout",
     "output_type": "stream",
     "text": [
      "How many numbers would you like?\n",
      "2\n"
     ]
    }
   ],
   "source": [
    "nr_numbers = int(input('How many numbers would you like?\\n'))"
   ]
  },
  {
   "cell_type": "code",
   "execution_count": 9,
   "id": "f5e71a96",
   "metadata": {},
   "outputs": [],
   "source": [
    "# I want to randomize which characters I get and in what order they appear\n",
    "# One of my ideas involved recursive loops. But that wasn't taught yet, so I won't use it."
   ]
  },
  {
   "cell_type": "code",
   "execution_count": 10,
   "id": "5330f1d5",
   "metadata": {},
   "outputs": [],
   "source": [
    "# Instead, we will have a variable that will hold all the password inputs."
   ]
  },
  {
   "cell_type": "code",
   "execution_count": 11,
   "id": "4c6e1461",
   "metadata": {},
   "outputs": [],
   "source": [
    "password_list = []"
   ]
  },
  {
   "cell_type": "code",
   "execution_count": 12,
   "id": "ada31f68",
   "metadata": {},
   "outputs": [],
   "source": [
    "# Now, let's add the items to the password list"
   ]
  },
  {
   "cell_type": "code",
   "execution_count": 13,
   "id": "2d7c7adf",
   "metadata": {},
   "outputs": [],
   "source": [
    "for l in range(0, nr_letters):\n",
    "    password_list.append(random.choice(letters))"
   ]
  },
  {
   "cell_type": "code",
   "execution_count": 14,
   "id": "df0b35b5",
   "metadata": {},
   "outputs": [],
   "source": [
    "for n in range(0, nr_numbers):\n",
    "    password_list.append(random.choice(numbers))"
   ]
  },
  {
   "cell_type": "code",
   "execution_count": 15,
   "id": "ba19a8ce",
   "metadata": {},
   "outputs": [],
   "source": [
    "for s in range(0, nr_symbols):\n",
    "    password_list.append(random.choice(symbols))"
   ]
  },
  {
   "cell_type": "code",
   "execution_count": 16,
   "id": "bf3be11f",
   "metadata": {},
   "outputs": [
    {
     "name": "stdout",
     "output_type": "stream",
     "text": [
      "['q', 'b', 'e', '7', '0', '(', '*', '&', ')', '$']\n"
     ]
    }
   ],
   "source": [
    "print(password_list)"
   ]
  },
  {
   "cell_type": "code",
   "execution_count": 17,
   "id": "e1d46444",
   "metadata": {},
   "outputs": [],
   "source": [
    "# Apparently, Python Random has a shuffle function. So, I think I'll use it"
   ]
  },
  {
   "cell_type": "code",
   "execution_count": 18,
   "id": "2ab07924",
   "metadata": {},
   "outputs": [],
   "source": [
    "random.shuffle(password_list)"
   ]
  },
  {
   "cell_type": "code",
   "execution_count": 19,
   "id": "a85bdf79",
   "metadata": {},
   "outputs": [],
   "source": [
    "generated_password = ''"
   ]
  },
  {
   "cell_type": "code",
   "execution_count": 20,
   "id": "8cdf809d",
   "metadata": {},
   "outputs": [],
   "source": [
    "for item in password_list:\n",
    "    generated_password += item"
   ]
  },
  {
   "cell_type": "code",
   "execution_count": 21,
   "id": "26554a86",
   "metadata": {},
   "outputs": [
    {
     "name": "stdout",
     "output_type": "stream",
     "text": [
      ")q&0b7e$*(\n"
     ]
    }
   ],
   "source": [
    "print(generated_password)"
   ]
  }
 ],
 "metadata": {
  "kernelspec": {
   "display_name": "Python 3 (ipykernel)",
   "language": "python",
   "name": "python3"
  },
  "language_info": {
   "codemirror_mode": {
    "name": "ipython",
    "version": 3
   },
   "file_extension": ".py",
   "mimetype": "text/x-python",
   "name": "python",
   "nbconvert_exporter": "python",
   "pygments_lexer": "ipython3",
   "version": "3.9.13"
  }
 },
 "nbformat": 4,
 "nbformat_minor": 5
}
