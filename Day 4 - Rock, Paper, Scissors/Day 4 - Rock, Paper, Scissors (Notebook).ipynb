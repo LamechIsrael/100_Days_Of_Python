{
 "cells": [
  {
   "cell_type": "markdown",
   "id": "060ab5ff",
   "metadata": {},
   "source": [
    "# Rock, Paper, Scissors\n",
    "\n",
    "## Summary\n",
    "\n",
    "I will create a game where you play Rock, Paper, Scissors against the computer.\n",
    "\n",
    "Because this is a Day 4 project, I will not create a while-loop that continues the game until you quit.\n",
    "\n",
    "How the game is played: Select 0, 1, or 2 to select 'Rock,' 'Paper,' or 'Scissors.'\n",
    "\n",
    "The computer will also make a selection. If you choose the better option, you win.\n",
    "\n",
    "## New Skills and Concepts Used\n",
    "- Lists\n",
    "- Random\n",
    "\n",
    "## Previous Skills Used\n",
    "- Input\n",
    "- Conditional Statements"
   ]
  },
  {
   "cell_type": "code",
   "execution_count": 1,
   "id": "50e68abd",
   "metadata": {},
   "outputs": [],
   "source": [
    "import random"
   ]
  },
  {
   "cell_type": "code",
   "execution_count": 2,
   "id": "426fd399",
   "metadata": {},
   "outputs": [],
   "source": [
    "selections = ['Rock', 'Paper', 'Scissors']"
   ]
  },
  {
   "cell_type": "code",
   "execution_count": 3,
   "id": "dfe130ec",
   "metadata": {},
   "outputs": [
    {
     "name": "stdout",
     "output_type": "stream",
     "text": [
      "What do you choose? Type 0 for Rock, 1 for Paper, or 2 for Scissors.0\n"
     ]
    }
   ],
   "source": [
    "player_input = input('What do you choose? Type 0 for Rock, 1 for Paper, or 2 for Scissors.')"
   ]
  },
  {
   "cell_type": "code",
   "execution_count": 4,
   "id": "c5129854",
   "metadata": {},
   "outputs": [],
   "source": [
    "player_selection = selections[int(player_input)]"
   ]
  },
  {
   "cell_type": "code",
   "execution_count": 5,
   "id": "fec22b7a",
   "metadata": {},
   "outputs": [],
   "source": [
    "computer_selection = random.choice(selections)"
   ]
  },
  {
   "cell_type": "code",
   "execution_count": 6,
   "id": "ba9a0fb6",
   "metadata": {},
   "outputs": [
    {
     "name": "stdout",
     "output_type": "stream",
     "text": [
      "You selected Rock\n",
      "The computer selected Rock\n"
     ]
    }
   ],
   "source": [
    "print(f'You selected {player_selection}')\n",
    "print(f'The computer selected {computer_selection}')"
   ]
  },
  {
   "cell_type": "code",
   "execution_count": 7,
   "id": "069c6bad",
   "metadata": {},
   "outputs": [
    {
     "name": "stdout",
     "output_type": "stream",
     "text": [
      "It is a draw\n"
     ]
    }
   ],
   "source": [
    "if(player_selection == 'Rock'):\n",
    "    if(computer_selection == 'Paper'):\n",
    "        print(\"You lose\")\n",
    "    elif(computer_selection == 'Scissors'):\n",
    "        print(\"You win\")\n",
    "    else:\n",
    "        print(\"It is a draw\")\n",
    "elif(player_selection == 'Paper'):\n",
    "    if(computer_selection == 'Scissors'):\n",
    "        print('You lose')\n",
    "    elif(computer_selection == \"Rock\"):\n",
    "        print(\"You win\")\n",
    "    else:\n",
    "        print(\"It is a draw\")\n",
    "elif(player_selection == 'Scissors'):\n",
    "    if(computer_selection == 'Rock'):\n",
    "        print('You lose')\n",
    "    elif(computer_selection == 'Paper'):\n",
    "        print(\"You win\")\n",
    "    else:\n",
    "        print(\"It is a draw\")\n",
    "else:\n",
    "    print(\"You did not make a selection\")\n",
    "    print('Anything beats nothing')\n",
    "    print('Therefore, you lose.')"
   ]
  }
 ],
 "metadata": {
  "kernelspec": {
   "display_name": "Python 3 (ipykernel)",
   "language": "python",
   "name": "python3"
  },
  "language_info": {
   "codemirror_mode": {
    "name": "ipython",
    "version": 3
   },
   "file_extension": ".py",
   "mimetype": "text/x-python",
   "name": "python",
   "nbconvert_exporter": "python",
   "pygments_lexer": "ipython3",
   "version": "3.9.13"
  }
 },
 "nbformat": 4,
 "nbformat_minor": 5
}
