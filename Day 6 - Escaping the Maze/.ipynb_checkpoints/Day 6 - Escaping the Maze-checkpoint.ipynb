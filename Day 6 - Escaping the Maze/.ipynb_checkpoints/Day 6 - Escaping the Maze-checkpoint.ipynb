{
 "cells": [
  {
   "cell_type": "markdown",
   "id": "e385ef0e",
   "metadata": {},
   "source": [
    "# Escaping the Maze\n",
    "\n",
    "# Summary\n",
    "\n",
    "This project is performed on a website called \"Reeborg's World.\"\n",
    "\n",
    "It is a website where one must input the functions available to get the robot to the goal.\n",
    "\n",
    "For that reason, it will not just work in your own compiler.\n",
    "\n",
    "To get to that site, please follow this link:\n",
    "\n",
    "[Click Here for Reeborg's World](https://reeborg.ca/reeborg.html?lang=en&mode=python&menu=worlds%2Fmenus%2Freeborg_intro_en.json&name=Maze&url=worlds%2Ftutorial_en%2Fmaze1.json)"
   ]
  },
  {
   "cell_type": "markdown",
   "id": "6bb25da6",
   "metadata": {},
   "source": [
    "## Solution Explanation\n",
    "So, there was a challenge that if the robot was at a specific place, it would enter an infinite loop.\n",
    "\n",
    "My solution is to get the robot to a wall no mater what.\n",
    "\n",
    "So, I made a function that will make it move to the southern-most wall immediately."
   ]
  },
  {
   "cell_type": "code",
   "execution_count": null,
   "id": "b4bf7f49",
   "metadata": {},
   "outputs": [],
   "source": [
    "def move_right():\n",
    "    for turn in range(0,3):\n",
    "        turn_left()\n",
    "    move()\n",
    "    \n",
    "def find_south_wall():  \n",
    "    while not is_facing_north():\n",
    "        turn_left() \n",
    "    turn_left()\n",
    "    turn_left()\n",
    "    while front_is_clear():\n",
    "        move()\n",
    "\n",
    "find_south_wall()\n",
    "    \n",
    "while not at_goal():\n",
    "    if right_is_clear():\n",
    "        move_right()\n",
    "    elif front_is_clear():\n",
    "        move()\n",
    "    else:\n",
    "        turn_left()"
   ]
  }
 ],
 "metadata": {
  "kernelspec": {
   "display_name": "Python 3 (ipykernel)",
   "language": "python",
   "name": "python3"
  },
  "language_info": {
   "codemirror_mode": {
    "name": "ipython",
    "version": 3
   },
   "file_extension": ".py",
   "mimetype": "text/x-python",
   "name": "python",
   "nbconvert_exporter": "python",
   "pygments_lexer": "ipython3",
   "version": "3.9.13"
  }
 },
 "nbformat": 4,
 "nbformat_minor": 5
}
