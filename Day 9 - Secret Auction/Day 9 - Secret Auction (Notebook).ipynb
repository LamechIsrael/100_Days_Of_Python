{
 "cells": [
  {
   "cell_type": "markdown",
   "id": "887af0d0",
   "metadata": {},
   "source": [
    "# Day 9 - Secret Auction\n",
    "\n",
    "## Summary\n",
    "\n",
    "This code is supposed to take in two inputs from the user: the name and the bid amount.\n",
    "\n",
    "This program will find the highest bidder and print it at the end.\n",
    "\n",
    "## Thoughts\n",
    "\n",
    "The teacher said that I must use a dictionary for this. Also, the program should loop through the dictionary and find the highest bidder.\n",
    "\n",
    "However, I realized that I could just store the information for the \"highest bidder\" as a key-value pair. No looping.\n",
    "\n",
    "I was also told to add 100 new lines to make the screen appear to have cleared. But since I'm using Jupyter Notebook, I won't do that. What I will do is create a variable that will hold the number of new lines. That way, it can be altered to suit a different environment.\n",
    "\n",
    "## Skills Used\n",
    "- Dictionaries\n",
    "- Nested Dictionaries"
   ]
  },
  {
   "cell_type": "code",
   "execution_count": 1,
   "id": "550db4c4",
   "metadata": {},
   "outputs": [
    {
     "name": "stdout",
     "output_type": "stream",
     "text": [
      "Welcome to 'Secret Bidder'\n",
      "This program will see which of you has the highest bid.\n"
     ]
    }
   ],
   "source": [
    "print(\"Welcome to 'Secret Bidder'\")\n",
    "print(\"This program will see which of you has the highest bid.\")"
   ]
  },
  {
   "cell_type": "code",
   "execution_count": 3,
   "id": "f140fd72",
   "metadata": {},
   "outputs": [],
   "source": [
    "bid_information = {'highest_bid':{\"name\":\"\", \"amount\":0}}"
   ]
  },
  {
   "cell_type": "code",
   "execution_count": 5,
   "id": "12d11d2f",
   "metadata": {},
   "outputs": [],
   "source": [
    "bid_again = True"
   ]
  },
  {
   "cell_type": "code",
   "execution_count": null,
   "id": "30e52d8e",
   "metadata": {},
   "outputs": [],
   "source": [
    "new_lines = \"\\n\" * 1"
   ]
  },
  {
   "cell_type": "code",
   "execution_count": 7,
   "id": "43adc997",
   "metadata": {},
   "outputs": [
    {
     "name": "stdout",
     "output_type": "stream",
     "text": [
      "What is your name? Lamech\n",
      "\n",
      "What is your bid amount? $20\n",
      "Are there any more bids? 'Yes' or 'No'?yes\n",
      "What is your name? Micha\n",
      "\n",
      "What is your bid amount? $50\n",
      "Are there any more bids? 'Yes' or 'No'?no\n"
     ]
    }
   ],
   "source": [
    "while(bid_again is True):\n",
    "    bid_name = input(f\"{new_lines}What is your name? \")\n",
    "    bid_amount = int(input(\"What is your bid amount? $\"))\n",
    "    \n",
    "    bid_information[bid_name] = bid_amount\n",
    "    \n",
    "    if(bid_amount > bid_information['highest_bid']['amount']):\n",
    "        bid_information['highest_bid'] = {'name':bid_name, 'amount':bid_amount}\n",
    "    \n",
    "    more_bids = input(\"Are there any more bids? 'Yes' or 'No'? \")\n",
    "    if(more_bids.lower() != 'yes'):\n",
    "        bid_again = !bid_again"
   ]
  },
  {
   "cell_type": "code",
   "execution_count": 8,
   "id": "31015cef",
   "metadata": {},
   "outputs": [
    {
     "name": "stdout",
     "output_type": "stream",
     "text": [
      "Micha got the highest bid with $50!\n"
     ]
    }
   ],
   "source": [
    "print(f\"{bid_information['highest_bid']['name']} got the highest bid with ${bid_information['highest_bid']['amount']}!\")"
   ]
  },
  {
   "cell_type": "code",
   "execution_count": null,
   "id": "e87989fe",
   "metadata": {},
   "outputs": [],
   "source": []
  }
 ],
 "metadata": {
  "kernelspec": {
   "display_name": "Python 3 (ipykernel)",
   "language": "python",
   "name": "python3"
  },
  "language_info": {
   "codemirror_mode": {
    "name": "ipython",
    "version": 3
   },
   "file_extension": ".py",
   "mimetype": "text/x-python",
   "name": "python",
   "nbconvert_exporter": "python",
   "pygments_lexer": "ipython3",
   "version": "3.9.13"
  }
 },
 "nbformat": 4,
 "nbformat_minor": 5
}
