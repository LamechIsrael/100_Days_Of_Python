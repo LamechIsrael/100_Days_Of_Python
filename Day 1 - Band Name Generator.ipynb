{
 "cells": [
  {
   "cell_type": "code",
   "execution_count": 1,
   "id": "808d2ac1",
   "metadata": {},
   "outputs": [
    {
     "name": "stdout",
     "output_type": "stream",
     "text": [
      "Welcome to the Band Name Generator.\n"
     ]
    }
   ],
   "source": [
    "print(\"Welcome to the Band Name Generator.\")"
   ]
  },
  {
   "cell_type": "code",
   "execution_count": 2,
   "id": "d4be4859",
   "metadata": {},
   "outputs": [
    {
     "name": "stdout",
     "output_type": "stream",
     "text": [
      "What's the name of the city you grew up in?\n",
      "Bristol\n"
     ]
    }
   ],
   "source": [
    "print(\"What's the name of the city you grew up in?\")\n",
    "city = input()"
   ]
  },
  {
   "cell_type": "code",
   "execution_count": 3,
   "id": "0fc175ad",
   "metadata": {},
   "outputs": [
    {
     "name": "stdout",
     "output_type": "stream",
     "text": [
      "What's your pet's name?\n",
      "Rabbit\n"
     ]
    }
   ],
   "source": [
    "print(\"What's your pet's name?\")\n",
    "pet = input()"
   ]
  },
  {
   "cell_type": "code",
   "execution_count": 4,
   "id": "fd724552",
   "metadata": {},
   "outputs": [
    {
     "name": "stdout",
     "output_type": "stream",
     "text": [
      "Your band name could be Bristol Rabbit\n"
     ]
    }
   ],
   "source": [
    "print(\"Your band name could be\", city + \" \" + pet)"
   ]
  }
 ],
 "metadata": {
  "kernelspec": {
   "display_name": "Python 3 (ipykernel)",
   "language": "python",
   "name": "python3"
  },
  "language_info": {
   "codemirror_mode": {
    "name": "ipython",
    "version": 3
   },
   "file_extension": ".py",
   "mimetype": "text/x-python",
   "name": "python",
   "nbconvert_exporter": "python",
   "pygments_lexer": "ipython3",
   "version": "3.9.13"
  }
 },
 "nbformat": 4,
 "nbformat_minor": 5
}
