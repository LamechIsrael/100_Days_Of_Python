{
 "cells": [
  {
   "cell_type": "markdown",
   "id": "bd1a7222",
   "metadata": {},
   "source": [
    "# Day 10 - Simple Calculator\n",
    "\n",
    "## Summary\n",
    "\n",
    "I am building a simple calculator.\n",
    "\n",
    "It will take in a number, an operator and another number.\n",
    "\n",
    "Then, it will produce an output.\n",
    "\n",
    "It will also see if the user wants to make another operation.\n",
    "\n",
    "Out of habit, I made this function complain a little if you either divide by 0 or input something that is not an operator.\n",
    "\n",
    "## Skills Used\n",
    "- Return functions"
   ]
  },
  {
   "cell_type": "code",
   "execution_count": 1,
   "id": "6c01e10c",
   "metadata": {},
   "outputs": [],
   "source": [
    "number = 0"
   ]
  },
  {
   "cell_type": "code",
   "execution_count": 2,
   "id": "62b554b5",
   "metadata": {},
   "outputs": [],
   "source": [
    "operators = ['+', '-', '*', '/']"
   ]
  },
  {
   "cell_type": "code",
   "execution_count": 3,
   "id": "cca324d4",
   "metadata": {},
   "outputs": [],
   "source": [
    "def perform_math(first_number, operator, second_number):\n",
    "    if operator == '+':\n",
    "        return first_number + second_number\n",
    "    elif operator == '-':\n",
    "        return first_number - second_number\n",
    "    elif operator == '*':\n",
    "        return first_number * second_number\n",
    "    else:\n",
    "        return first_number / second_number"
   ]
  },
  {
   "cell_type": "code",
   "execution_count": 4,
   "id": "0bdadfb0",
   "metadata": {},
   "outputs": [],
   "source": [
    "def check_for_number(input_text):\n",
    "    input_number = input(f\"{input_text}\")\n",
    "    while not input_number.isnumeric():\n",
    "        print(f\"'{input_number}' is not a number\")\n",
    "        input_number = input(f\"{input_text}\")\n",
    "    return int(input_number)"
   ]
  },
  {
   "cell_type": "code",
   "execution_count": 5,
   "id": "aa4ef0ce",
   "metadata": {},
   "outputs": [],
   "source": [
    "def retrieve_math_input(number, new_operation):\n",
    "    if new_operation == False:\n",
    "        first_number = number\n",
    "    else:\n",
    "        first_number = check_for_number(\"What is the first number? \")\n",
    "    operator = input(\"What is the operator? '+', '-', '*', '/'? \")\n",
    "    \n",
    "    while operator not in operators:\n",
    "        print(f\"'{operator}' is not an allowed operator.\")\n",
    "        operator = input(\"What is the operator? '+', '-', '*', '/'? \")\n",
    "    second_number = check_for_number(\"What is the second number? \")\n",
    "    \n",
    "    if operator == '/' and second_number == 0:\n",
    "        print(\"Cannot divide by 0\")\n",
    "        return first_number\n",
    "    else:\n",
    "        result = perform_math(first_number, operator, second_number)\n",
    "        print(f\"\\n{first_number} {operator} {second_number} = {result}\\n\")\n",
    "        return result "
   ]
  },
  {
   "cell_type": "code",
   "execution_count": 6,
   "id": "0221d9bf",
   "metadata": {},
   "outputs": [],
   "source": [
    "doing_math = True"
   ]
  },
  {
   "cell_type": "code",
   "execution_count": 7,
   "id": "b86d02e2",
   "metadata": {},
   "outputs": [],
   "source": [
    "new_operation = True"
   ]
  },
  {
   "cell_type": "code",
   "execution_count": 8,
   "id": "7ed1391b",
   "metadata": {},
   "outputs": [
    {
     "name": "stdout",
     "output_type": "stream",
     "text": [
      "What is the first number? 15\n",
      "What is the operator? '+', '-', '*', '/'? /\n",
      "What is the second number? 3\n",
      "\n",
      "15 / 3 = 5.0\n",
      "\n",
      "Type 'y' to continue operating with 5.0, or type 'n' to start a new operation. y\n",
      "What is the operator? '+', '-', '*', '/'? *\n",
      "What is the second number? 5\n",
      "\n",
      "5.0 * 5 = 25.0\n",
      "\n",
      "Type 'y' to continue operating with 25.0, or type 'n' to start a new operation. y\n",
      "What is the operator? '+', '-', '*', '/'? -\n",
      "What is the second number? 15\n",
      "\n",
      "25.0 - 15 = 10.0\n",
      "\n",
      "Type 'y' to continue operating with 10.0, or type 'n' to start a new operation. y\n",
      "What is the operator? '+', '-', '*', '/'? +\n",
      "What is the second number? 90\n",
      "\n",
      "10.0 + 90 = 100.0\n",
      "\n",
      "Type 'y' to continue operating with 100.0, or type 'n' to start a new operation. y\n",
      "What is the operator? '+', '-', '*', '/'? a\n",
      "'a' is not an allowed operator.\n",
      "What is the operator? '+', '-', '*', '/'? 1\n",
      "'1' is not an allowed operator.\n",
      "What is the operator? '+', '-', '*', '/'? /\n",
      "What is the second number? a\n",
      "'a' is not a number\n",
      "What is the second number? 10\n",
      "\n",
      "100.0 / 10 = 10.0\n",
      "\n",
      "Type 'y' to continue operating with 10.0, or type 'n' to start a new operation. n\n",
      "Do you want to stop doing math? 'y' or 'n'. y\n"
     ]
    }
   ],
   "source": [
    "while doing_math == True:\n",
    "    value = retrieve_math_input(number, new_operation)\n",
    "    operate_again = input(f\"Type 'y' to continue operating with {value}, or type 'n' to start a new operation. \")\n",
    "    \n",
    "    if operate_again.lower() == 'y':\n",
    "        number = value\n",
    "        new_operation = False\n",
    "    else:\n",
    "        number = 0\n",
    "        new_operation = True\n",
    "        \n",
    "        stop = input(\"Do you want to stop doing math? 'y' or 'n'. \")\n",
    "        \n",
    "        if(stop == 'y'):\n",
    "            doing_math = False"
   ]
  }
 ],
 "metadata": {
  "kernelspec": {
   "display_name": "Python 3 (ipykernel)",
   "language": "python",
   "name": "python3"
  },
  "language_info": {
   "codemirror_mode": {
    "name": "ipython",
    "version": 3
   },
   "file_extension": ".py",
   "mimetype": "text/x-python",
   "name": "python",
   "nbconvert_exporter": "python",
   "pygments_lexer": "ipython3",
   "version": "3.9.13"
  }
 },
 "nbformat": 4,
 "nbformat_minor": 5
}
